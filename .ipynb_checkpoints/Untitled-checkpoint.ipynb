{
 "cells": [
  {
   "cell_type": "code",
   "execution_count": null,
   "id": "a53e348d-f0dd-4775-a55f-23a2b92a125c",
   "metadata": {},
   "outputs": [],
   "source": []
  }
 ],
 "metadata": {
  "kernelspec": {
   "display_name": "",
   "name": ""
  },
  "language_info": {
   "name": ""
  }
 },
 "nbformat": 4,
 "nbformat_minor": 5
}
